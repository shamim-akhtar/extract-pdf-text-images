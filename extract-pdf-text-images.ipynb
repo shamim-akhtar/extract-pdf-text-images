{
 "cells": [
  {
   "cell_type": "markdown",
   "id": "5a46278e",
   "metadata": {},
   "source": [
    "import fitz\n",
    "import os\n",
    "import PyPDF2\n",
    "\n",
    "input_path = 'C:/Temp/testtest-10.pdf'\n",
    "output_path = 'C:/Temp/images'\n",
    "\n",
    "# Open the PDF file\n",
    "with open(input_path, 'rb') as pdf_file:\n",
    "    # Read the PDF file\n",
    "    pdf_reader = PyPDF2.PdfReader(pdf_file)\n",
    "\n",
    "    # Print the number of pages in the PDF\n",
    "    num_pages = len(pdf_reader.pages)\n",
    "    print(f'The PDF file has {num_pages} pages.')\n",
    "\n",
    "    # Extract text from the first page of the PDF\n",
    "    first_page = pdf_reader.pages[0]\n",
    "    page_text = first_page.extract_text()\n",
    "\n",
    "    # Save the text to a file\n",
    "    text_file_path = os.path.join(output_path, 'output.txt')\n",
    "    with open(text_file_path, 'w') as text_file:\n",
    "        text_file.write(page_text)\n",
    "\n",
    "# Open the PDF file with fitz\n",
    "pdf_doc = fitz.open(input_path)\n",
    "\n",
    "# Get a list of images on the first page of the PDF\n",
    "first_page_images = pdf_doc.get_page_images(0)\n",
    "\n",
    "# Save each image to a file\n",
    "for image in first_page_images:\n",
    "    image_xref = image[0]\n",
    "    pixmap = fitz.Pixmap(pdf_doc, image_xref)\n",
    "    image_file_path = os.path.join(output_path, f'{image_xref}.png')\n",
    "    pixmap.save(image_file_path)\n",
    "    pixmap = None\n",
    "\n",
    "# Print the number of images detected on the first page of the PDF\n",
    "num_images = len(first_page_images)\n",
    "print(f'{num_images} images detected on the first page of the PDF.')\n"
   ]
  },
  {
   "cell_type": "code",
   "execution_count": null,
   "id": "24d4084d",
   "metadata": {},
   "outputs": [],
   "source": []
  }
 ],
 "metadata": {
  "kernelspec": {
   "display_name": "Python 3 (ipykernel)",
   "language": "python",
   "name": "python3"
  },
  "language_info": {
   "codemirror_mode": {
    "name": "ipython",
    "version": 3
   },
   "file_extension": ".py",
   "mimetype": "text/x-python",
   "name": "python",
   "nbconvert_exporter": "python",
   "pygments_lexer": "ipython3",
   "version": "3.10.9"
  }
 },
 "nbformat": 4,
 "nbformat_minor": 5
}
